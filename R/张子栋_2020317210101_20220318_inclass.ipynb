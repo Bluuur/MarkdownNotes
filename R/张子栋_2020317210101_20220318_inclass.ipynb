{
 "cells": [
  {
   "attachments": {},
   "cell_type": "markdown",
   "id": "29fc3193",
   "metadata": {},
   "source": [
    "# 第四次上机实验\n",
    "+ 本次实验所需文件\n",
    "    + `hg19_gene_table.txt`\n",
    "    + `hg19.chrom.sizes.txt`\n",
    "> 要求: 不用任何循环语句\n",
    "\n",
    "1. 对人染色体长度数据 `hg19.chrom.sizes.txt`\n",
    "    1.用 `read.table` 正确读入数据    "
   ]
  },
  {
   "cell_type": "code",
   "execution_count": 126,
   "id": "28c44413",
   "metadata": {},
   "outputs": [],
   "source": [
    "data <- read.table('hg19.chrom.sizes.txt', header = F)"
   ]
  },
  {
   "cell_type": "markdown",
   "id": "a6b9e4ca",
   "metadata": {},
   "source": [
    "2.最长和最短的染色体分别是哪条? 各多长?"
   ]
  },
  {
   "cell_type": "code",
   "execution_count": 127,
   "id": "eb7aae5d",
   "metadata": {},
   "outputs": [
    {
     "data": {
      "text/html": [
       "<table class=\"dataframe\">\n",
       "<caption>A data.frame: 1 × 2</caption>\n",
       "<thead>\n",
       "\t<tr><th></th><th scope=col>V1</th><th scope=col>V2</th></tr>\n",
       "\t<tr><th></th><th scope=col>&lt;chr&gt;</th><th scope=col>&lt;int&gt;</th></tr>\n",
       "</thead>\n",
       "<tbody>\n",
       "\t<tr><th scope=row>1</th><td>chr1</td><td>249250621</td></tr>\n",
       "</tbody>\n",
       "</table>\n"
      ],
      "text/latex": [
       "A data.frame: 1 × 2\n",
       "\\begin{tabular}{r|ll}\n",
       "  & V1 & V2\\\\\n",
       "  & <chr> & <int>\\\\\n",
       "\\hline\n",
       "\t1 & chr1 & 249250621\\\\\n",
       "\\end{tabular}\n"
      ],
      "text/markdown": [
       "\n",
       "A data.frame: 1 × 2\n",
       "\n",
       "| <!--/--> | V1 &lt;chr&gt; | V2 &lt;int&gt; |\n",
       "|---|---|---|\n",
       "| 1 | chr1 | 249250621 |\n",
       "\n"
      ],
      "text/plain": [
       "  V1   V2       \n",
       "1 chr1 249250621"
      ]
     },
     "metadata": {},
     "output_type": "display_data"
    },
    {
     "data": {
      "text/html": [
       "<table class=\"dataframe\">\n",
       "<caption>A data.frame: 1 × 2</caption>\n",
       "<thead>\n",
       "\t<tr><th></th><th scope=col>V1</th><th scope=col>V2</th></tr>\n",
       "\t<tr><th></th><th scope=col>&lt;chr&gt;</th><th scope=col>&lt;int&gt;</th></tr>\n",
       "</thead>\n",
       "<tbody>\n",
       "\t<tr><th scope=row>22</th><td>chr21</td><td>48129895</td></tr>\n",
       "</tbody>\n",
       "</table>\n"
      ],
      "text/latex": [
       "A data.frame: 1 × 2\n",
       "\\begin{tabular}{r|ll}\n",
       "  & V1 & V2\\\\\n",
       "  & <chr> & <int>\\\\\n",
       "\\hline\n",
       "\t22 & chr21 & 48129895\\\\\n",
       "\\end{tabular}\n"
      ],
      "text/markdown": [
       "\n",
       "A data.frame: 1 × 2\n",
       "\n",
       "| <!--/--> | V1 &lt;chr&gt; | V2 &lt;int&gt; |\n",
       "|---|---|---|\n",
       "| 22 | chr21 | 48129895 |\n",
       "\n"
      ],
      "text/plain": [
       "   V1    V2      \n",
       "22 chr21 48129895"
      ]
     },
     "metadata": {},
     "output_type": "display_data"
    }
   ],
   "source": [
    "data <- read.table('hg19.chrom.sizes.txt', header = F)\n",
    "data[which(data$V2 == max(data$V2)),]\n",
    "data[which(data$V2 == min(data$V2)),]"
   ]
  },
  {
   "cell_type": "markdown",
   "id": "1c9f4f7a",
   "metadata": {},
   "source": [
    "3.求所有染色体的总长度和平均长度\n"
   ]
  },
  {
   "cell_type": "code",
   "execution_count": 128,
   "id": "9a960461",
   "metadata": {},
   "outputs": [
    {
     "name": "stdout",
     "output_type": "stream",
     "text": [
      "Length in total 3095677412 \n",
      "Average length 128986559"
     ]
    }
   ],
   "source": [
    "data <- read.table('hg19.chrom.sizes.txt', header = F)\n",
    "cat('Length in total', sum(data$V2), '\\n')\n",
    "cat('Average length', mean(data$V2))"
   ]
  },
  {
   "cell_type": "markdown",
   "id": "3c890aae",
   "metadata": {},
   "source": [
    "2.用 `read.table` 读入 `hg19.chrom.sizes.txt`"
   ]
  },
  {
   "cell_type": "markdown",
   "id": "af5d8801",
   "metadata": {},
   "source": [
    "1.用函数 `table` 得到每条染色体上的基因个数, 并画 `barplot`"
   ]
  },
  {
   "cell_type": "code",
   "execution_count": 129,
   "id": "f3d2131c",
   "metadata": {},
   "outputs": [
    {
     "data": {
      "text/plain": [
       "\n",
       "                 chr1  chr1_gl000191_random  chr1_gl000192_random \n",
       "                 5914                     9                     2 \n",
       "                chr10                 chr11                 chr12 \n",
       "                 2866                  3473                  2940 \n",
       "                chr13                 chr14                 chr15 \n",
       "                 1131                  1892                  2170 \n",
       "                chr16                 chr17       chr17_ctg5_hap1 \n",
       "                 2488                  3286                    62 \n",
       "chr17_gl000205_random                 chr18                 chr19 \n",
       "                    1                   898                  3837 \n",
       "chr19_gl000209_random                  chr2                 chr20 \n",
       "                   18                  4108                  1688 \n",
       "                chr21                 chr22                  chr3 \n",
       "                  789                  1280                  3357 \n",
       "                 chr4        chr4_ctg9_hap1  chr4_gl000193_random \n",
       "                 2268                    14                     1 \n",
       " chr4_gl000194_random                  chr5                  chr6 \n",
       "                    4                  2689                  3051 \n",
       "        chr6_apd_hap1         chr6_cox_hap2         chr6_dbb_hap3 \n",
       "                  242                   476                   436 \n",
       "       chr6_mann_hap4         chr6_mcf_hap5         chr6_qbl_hap6 \n",
       "                  387                   424                   454 \n",
       "       chr6_ssto_hap7                  chr7  chr7_gl000195_random \n",
       "                  392                  2742                     9 \n",
       "                 chr8                  chr9                  chrM \n",
       "                 2133                  2302                     2 \n",
       "       chrUn_gl000211        chrUn_gl000212        chrUn_gl000213 \n",
       "                    1                     1                     4 \n",
       "       chrUn_gl000215        chrUn_gl000218        chrUn_gl000219 \n",
       "                    2                     3                     3 \n",
       "       chrUn_gl000220        chrUn_gl000222        chrUn_gl000223 \n",
       "                   21                     5                    10 \n",
       "       chrUn_gl000224        chrUn_gl000227        chrUn_gl000228 \n",
       "                    2                     1                     5 \n",
       "       chrUn_gl000241                  chrX                  chrY \n",
       "                    2                  2582                   432 "
      ]
     },
     "metadata": {},
     "output_type": "display_data"
    },
    {
     "data": {
      "image/png": "[encoded data removed]",
      "text/plain": [
       "plot without title"
      ]
     },
     "metadata": {
      "image/png": {
       "height": 420,
       "width": 420
      }
     },
     "output_type": "display_data"
    }
   ],
   "source": [
    "data <- read.table(\"hg19_gene_table.txt\", header = T)\n",
    "table(data$chrom)\n",
    "barplot(table(data$chrom))"
   ]
  },
  {
   "cell_type": "markdown",
   "id": "132619f0",
   "metadata": {},
   "source": [
    "2.结合染色体长度计算每条染色体上的基因密度(每 Mbp 的基因个数)"
   ]
  },
  {
   "cell_type": "code",
   "execution_count": 130,
   "id": "95d6befb",
   "metadata": {},
   "outputs": [
    {
     "data": {
      "text/plain": [
       "\n",
       "     chr1      chr2      chr3      chr4      chr5      chr6      chr7      chr8 \n",
       "23.727122 16.891491 16.952625 11.864762 14.863312 17.830107 17.230257 14.573254 \n",
       "     chr9     chr10     chr11     chr12     chr13     chr14     chr15     chr16 \n",
       "16.301566 21.145869 25.724684 21.964575  9.820276 17.624668 21.164250 27.535906 \n",
       "    chr17     chr18     chr19     chr20     chr22     chr21      chrX      chrY \n",
       "40.470368 11.501430 64.892034 26.782802 24.949046 16.393138 16.629038  7.275965 "
      ]
     },
     "metadata": {},
     "output_type": "display_data"
    }
   ],
   "source": [
    "data <- read.table(\"hg19_gene_table.txt\", header = T)\n",
    "chromoLength <- read.table('hg19.chrom.sizes.txt', header = F)\n",
    "geneNum <- table(data$chrom)\n",
    "geneNum <- geneNum[as.vector(chromoLength$V1)]\n",
    "geneNum / (chromoLength$V2 / 1000000)"
   ]
  },
  {
   "cell_type": "markdown",
   "id": "704b256f",
   "metadata": {},
   "source": [
    "3.计算基因长度, 绘制基因长度的 `boxplot`"
   ]
  },
  {
   "cell_type": "code",
   "execution_count": 131,
   "id": "07fdfca0",
   "metadata": {},
   "outputs": [
    {
     "data": {
      "image/png": "[encoded data removed]",
      "text/plain": [
       "plot without title"
      ]
     },
     "metadata": {
      "image/png": {
       "height": 420,
       "width": 420
      }
     },
     "output_type": "display_data"
    }
   ],
   "source": [
    "data <- read.table(\"hg19_gene_table.txt\", header = T)\n",
    "geneLength <- data$txEnd - data$txStart + 1\n",
    "boxplot(geneLength)"
   ]
  },
  {
   "cell_type": "markdown",
   "id": "f6960b7e",
   "metadata": {},
   "source": [
    "4.找出最长的基因"
   ]
  },
  {
   "cell_type": "code",
   "execution_count": 132,
   "id": "5e8f63a8",
   "metadata": {},
   "outputs": [
    {
     "data": {
      "text/html": [
       "<style>\n",
       ".list-inline {list-style: none; margin:0; padding: 0}\n",
       ".list-inline>li {display: inline-block}\n",
       ".list-inline>li:not(:last-child)::after {content: \"\\00b7\"; padding: 0 .5ex}\n",
       "</style>\n",
       "<ol class=list-inline><li>'ATL1'</li><li>'99986'</li></ol>\n"
      ],
      "text/latex": [
       "\\begin{enumerate*}\n",
       "\\item 'ATL1'\n",
       "\\item '99986'\n",
       "\\end{enumerate*}\n"
      ],
      "text/markdown": [
       "1. 'ATL1'\n",
       "2. '99986'\n",
       "\n",
       "\n"
      ],
      "text/plain": [
       "[1] \"ATL1\"  \"99986\""
      ]
     },
     "metadata": {},
     "output_type": "display_data"
    }
   ],
   "source": [
    "data <- read.table(\"hg19_gene_table.txt\", header = T)\n",
    "gene <- cbind(data$geneName,data$txEnd - data$txStart + 1)\n",
    "gene[which(gene[,2]==max(gene[,2])),]"
   ]
  },
  {
   "cell_type": "markdown",
   "id": "dab4dbc1",
   "metadata": {},
   "source": [
    "5.阅读 `cor` 函数的帮助文件, 计算基因长度和外显子个数的相关系数"
   ]
  },
  {
   "cell_type": "code",
   "execution_count": 133,
   "id": "63c2c8a0",
   "metadata": {},
   "outputs": [
    {
     "data": {
      "text/html": [
       "0.376018862127503"
      ],
      "text/latex": [
       "0.376018862127503"
      ],
      "text/markdown": [
       "0.376018862127503"
      ],
      "text/plain": [
       "[1] 0.3760189"
      ]
     },
     "metadata": {},
     "output_type": "display_data"
    }
   ],
   "source": [
    "data <- read.table(\"hg19_gene_table.txt\", header = T)\n",
    "gene <- cbind(data$txEnd - data$txStart + 1, data$exonCount)\n",
    "cor(gene[,1], gene[,2])"
   ]
  },
  {
   "cell_type": "markdown",
   "id": "e40471d6",
   "metadata": {},
   "source": [
    "6.用 `prop.table` 分染色体计算 +/- strand 上基因的百分比"
   ]
  },
  {
   "cell_type": "code",
   "execution_count": 134,
   "id": "0a80d108",
   "metadata": {},
   "outputs": [
    {
     "data": {
      "text/plain": [
       "\n",
       "        -         + \n",
       "0.4868818 0.5131182 "
      ]
     },
     "metadata": {},
     "output_type": "display_data"
    }
   ],
   "source": [
    "data <- read.table(\"hg19_gene_table.txt\", header = T)\n",
    "gene <- table(data$strand)\n",
    "prop.table(gene)"
   ]
  }
 ],
 "metadata": {
  "kernelspec": {
   "display_name": "R",
   "language": "R",
   "name": "ir"
  },
  "language_info": {
   "codemirror_mode": "r",
   "file_extension": ".r",
   "mimetype": "text/x-r-source",
   "name": "R",
   "pygments_lexer": "r",
   "version": "4.1.2"
  },
  "toc": {
   "base_numbering": 1,
   "nav_menu": {},
   "number_sections": true,
   "sideBar": true,
   "skip_h1_title": false,
   "title_cell": "Table of Contents",
   "title_sidebar": "Contents",
   "toc_cell": false,
   "toc_position": {},
   "toc_section_display": true,
   "toc_window_display": false
  }
 },
 "nbformat": 4,
 "nbformat_minor": 5
}
